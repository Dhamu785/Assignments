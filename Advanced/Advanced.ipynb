{
  "nbformat": 4,
  "nbformat_minor": 0,
  "metadata": {
    "colab": {
      "provenance": [],
      "gpuType": "T4",
      "mount_file_id": "1YdxRlBOMyXtACj92FD0bM_35aVsODxar",
      "authorship_tag": "ABX9TyMPoR4FV7iqG/OHaSDRSWEW",
      "include_colab_link": true
    },
    "kernelspec": {
      "name": "python3",
      "display_name": "Python 3"
    },
    "language_info": {
      "name": "python"
    },
    "accelerator": "GPU"
  },
  "cells": [
    {
      "cell_type": "markdown",
      "metadata": {
        "id": "view-in-github",
        "colab_type": "text"
      },
      "source": [
        "<a href=\"https://colab.research.google.com/github/Dhamu785/Assignments/blob/main/Advanced/Advanced.ipynb\" target=\"_parent\"><img src=\"https://colab.research.google.com/assets/colab-badge.svg\" alt=\"Open In Colab\"/></a>"
      ]
    },
    {
      "cell_type": "markdown",
      "source": [
        "## **Importing libraries**"
      ],
      "metadata": {
        "id": "7ClygqtGomCS"
      }
    },
    {
      "cell_type": "code",
      "execution_count": 13,
      "metadata": {
        "id": "ighSdEW9mz2h"
      },
      "outputs": [],
      "source": [
        "import numpy as np\n",
        "import matplotlib.pyplot as plt\n",
        "from PIL import Image\n",
        "import random\n",
        "\n",
        "import tensorflow as tf\n",
        "from tensorflow.keras import models, layers"
      ]
    },
    {
      "cell_type": "markdown",
      "source": [
        "## **Reading data**"
      ],
      "metadata": {
        "id": "LVNLgydpoxNA"
      }
    },
    {
      "cell_type": "code",
      "source": [
        "(x_train, y_train), (x_test, y_test) = tf.keras.datasets.mnist.load_data(\n",
        "    path='/content/drive/MyDrive/Colab Notebooks YouTube tutorials/zzz Assignments/03_Advanced/mnist.npz'\n",
        ")"
      ],
      "metadata": {
        "id": "4-sjcpjpnxWw"
      },
      "execution_count": 14,
      "outputs": []
    },
    {
      "cell_type": "code",
      "source": [
        "print(f\"x train length : {len(x_train)}\")\n",
        "print(f\"x test length : {len(x_test)}\")\n",
        "print(f\"y train length : {len(y_train)}\")\n",
        "print(f\"y test length : {len(y_test)}\")"
      ],
      "metadata": {
        "colab": {
          "base_uri": "https://localhost:8080/"
        },
        "id": "Pyjg8QQBoH-7",
        "outputId": "f409ef19-d75b-426b-826e-f4cadf3296d5"
      },
      "execution_count": 15,
      "outputs": [
        {
          "output_type": "stream",
          "name": "stdout",
          "text": [
            "x train length : 60000\n",
            "x test length : 10000\n",
            "y train length : 60000\n",
            "y test length : 10000\n"
          ]
        }
      ]
    },
    {
      "cell_type": "markdown",
      "source": [
        "## **Data visualization**"
      ],
      "metadata": {
        "id": "aPLEGxQntWpO"
      }
    },
    {
      "cell_type": "code",
      "source": [
        "plt.matshow(x_train[0], cmap='gray')\n",
        "plt.show()"
      ],
      "metadata": {
        "colab": {
          "base_uri": "https://localhost:8080/",
          "height": 437
        },
        "id": "LY4RVOu9oJfp",
        "outputId": "5281e392-b324-4af9-c826-39c4990e0d3f"
      },
      "execution_count": 16,
      "outputs": [
        {
          "output_type": "display_data",
          "data": {
            "text/plain": [
              "<Figure size 480x480 with 1 Axes>"
            ],
            "image/png": "[encoded data removed]"
          },
          "metadata": {}
        }
      ]
    },
    {
      "cell_type": "code",
      "source": [
        "def show(data):\n",
        "    m = len(data)\n",
        "    fig, ax = plt.subplots(1,m)\n",
        "    fig.set_figwidth(1.5*m)\n",
        "    for a,f in zip(fig, data):\n",
        "        a.matshow(data,cmap='gray')\n",
        "        a.axis('off')\n",
        "    plt.show()"
      ],
      "metadata": {
        "id": "af4P2X1wpGqn"
      },
      "execution_count": 17,
      "outputs": []
    },
    {
      "cell_type": "code",
      "source": [
        "fig, ax= plt.subplots(2,4,figsize=(10,5))\n",
        "for i in range(0,3):\n",
        "    for j in range(0,4):\n",
        "        if i==0:\n",
        "            ax[i,j].matshow(x_train[j],cmap='gray')\n",
        "            ax[i,j].axis('off')\n",
        "        elif i==1:\n",
        "            ax[i,j].matshow(x_train[j+4], cmap='gray')\n",
        "            ax[i,j].axis('off')\n",
        "\n"
      ],
      "metadata": {
        "colab": {
          "base_uri": "https://localhost:8080/",
          "height": 415
        },
        "id": "nwBn69RzquVz",
        "outputId": "184032d6-964f-4441-cbec-1d99653e92a4"
      },
      "execution_count": 18,
      "outputs": [
        {
          "output_type": "display_data",
          "data": {
            "text/plain": [
              "<Figure size 1000x500 with 8 Axes>"
            ],
            "image/png": "[encoded data removed]"
          },
          "metadata": {}
        }
      ]
    },
    {
      "cell_type": "code",
      "source": [
        "print(y_train[0:9])"
      ],
      "metadata": {
        "colab": {
          "base_uri": "https://localhost:8080/"
        },
        "id": "AF0WFHrMrBX5",
        "outputId": "58bfb688-097e-40c8-dd45-31a12a4ddc27"
      },
      "execution_count": 19,
      "outputs": [
        {
          "output_type": "stream",
          "name": "stdout",
          "text": [
            "[5 0 4 1 9 2 1 3 1]\n"
          ]
        }
      ]
    },
    {
      "cell_type": "markdown",
      "source": [
        "## **Data pre-processing**"
      ],
      "metadata": {
        "id": "0AG6HkfYtjT5"
      }
    },
    {
      "cell_type": "code",
      "source": [
        "# Numbers distribution\n",
        "unique0, counts0 = np.unique(y_train, return_counts=True)\n",
        "print(unique0)\n",
        "print(counts0)\n",
        "unique1, counts1 = np.unique(y_test, return_counts=True)\n",
        "print(unique1)\n",
        "print(counts1)"
      ],
      "metadata": {
        "colab": {
          "base_uri": "https://localhost:8080/"
        },
        "id": "NTR0eb8gvTYg",
        "outputId": "cd7bd2a7-112f-4593-aff0-3a626fafe6be"
      },
      "execution_count": 20,
      "outputs": [
        {
          "output_type": "stream",
          "name": "stdout",
          "text": [
            "[0 1 2 3 4 5 6 7 8 9]\n",
            "[5923 6742 5958 6131 5842 5421 5918 6265 5851 5949]\n",
            "[0 1 2 3 4 5 6 7 8 9]\n",
            "[ 980 1135 1032 1010  982  892  958 1028  974 1009]\n"
          ]
        }
      ]
    },
    {
      "cell_type": "code",
      "source": [
        "fig, ax= plt.subplots(1,2,figsize=(15,5))\n",
        "ax[0].bar(unique0,counts0, color='#ff5100', label='Salary_1', edgecolor='black')\n",
        "# ax[0].set_xticklabels(unique0)\n",
        "ax[0].set_title(\"Count of train data\")\n",
        "ax[1].bar(unique1,counts1, color='#ff5100', label='Salary_1', edgecolor='black')\n",
        "# ax[1].set_xticklabels(unique1)\n",
        "ax[1].set_title(\"Count of test data\")\n",
        "plt.show()"
      ],
      "metadata": {
        "colab": {
          "base_uri": "https://localhost:8080/",
          "height": 468
        },
        "id": "aHfpM0T_tnUs",
        "outputId": "8d1ce33c-a01f-49e0-faaf-4e1fbffd9532"
      },
      "execution_count": 21,
      "outputs": [
        {
          "output_type": "display_data",
          "data": {
            "text/plain": [
              "<Figure size 1500x500 with 2 Axes>"
            ],
            "image/png": "[encoded data removed]"
          },
          "metadata": {}
        }
      ]
    },
    {
      "cell_type": "code",
      "source": [
        "print(f\"x train shape: {x_train.shape}\")\n",
        "print(f\"x test shape: {x_test.shape}\")\n",
        "print(f\"y train shape: {y_train.shape}\")\n",
        "print(f\"y test shape: {y_test.shape}\")"
      ],
      "metadata": {
        "colab": {
          "base_uri": "https://localhost:8080/"
        },
        "id": "WWCEWFcBtDPM",
        "outputId": "232242a5-f579-4eb5-84fb-724b1c346e5a"
      },
      "execution_count": 22,
      "outputs": [
        {
          "output_type": "stream",
          "name": "stdout",
          "text": [
            "x train shape: (60000, 28, 28)\n",
            "x test shape: (10000, 28, 28)\n",
            "y train shape: (60000,)\n",
            "y test shape: (10000,)\n"
          ]
        }
      ]
    },
    {
      "cell_type": "markdown",
      "source": [
        "- Since each image shape is 28x28. It does not requires any preporocessing."
      ],
      "metadata": {
        "id": "8mMEbl4ot6H4"
      }
    },
    {
      "cell_type": "markdown",
      "source": [
        "## **Model building**"
      ],
      "metadata": {
        "id": "siKcET29uxhv"
      }
    },
    {
      "cell_type": "code",
      "source": [
        "model = models.Sequential([\n",
        "    layers.Conv2D(16,3, padding='same',activation='relu',input_shape=(28,28,1)),\n",
        "    layers.MaxPool2D(),\n",
        "    layers.Conv2D(32,3,padding='same', activation='relu'),\n",
        "    layers.MaxPool2D(),\n",
        "\n",
        "    layers.Flatten(),\n",
        "    # layers.Dense(2050, activation='relu'),\n",
        "    # layers.Dense(1050, activation='relu'),\n",
        "    layers.Dense(950, activation='relu'),\n",
        "    layers.Dense(60,activation='relu'),\n",
        "    layers.Dense(10,activation='softmax')\n",
        "])\n",
        "\n",
        "model.compile(optimizer=tf.keras.optimizers.Adamax(),\n",
        "              loss='sparse_categorical_crossentropy',\n",
        "              metrics=['accuracy'])"
      ],
      "metadata": {
        "id": "eDh42zsavxlm"
      },
      "execution_count": 23,
      "outputs": []
    },
    {
      "cell_type": "code",
      "source": [
        "history = model.fit(x_train, y_train, epochs=20)"
      ],
      "metadata": {
        "colab": {
          "base_uri": "https://localhost:8080/"
        },
        "id": "jg33Zyp7zDam",
        "outputId": "92413520-e646-4630-9f7d-3501e2d45ada"
      },
      "execution_count": 25,
      "outputs": [
        {
          "output_type": "stream",
          "name": "stdout",
          "text": [
            "Epoch 1/20\n",
            "1875/1875 [==============================] - 15s 8ms/step - loss: 4.3373e-04 - accuracy: 0.9998\n",
            "Epoch 2/20\n",
            "1875/1875 [==============================] - 13s 7ms/step - loss: 1.3202e-05 - accuracy: 1.0000\n",
            "Epoch 3/20\n",
            "1875/1875 [==============================] - 12s 6ms/step - loss: 2.3070e-04 - accuracy: 0.9999\n",
            "Epoch 4/20\n",
            "1875/1875 [==============================] - 11s 6ms/step - loss: 1.6190e-04 - accuracy: 0.9999\n",
            "Epoch 5/20\n",
            "1875/1875 [==============================] - 13s 7ms/step - loss: 2.9318e-04 - accuracy: 0.9999\n",
            "Epoch 6/20\n",
            "1875/1875 [==============================] - 11s 6ms/step - loss: 6.4163e-04 - accuracy: 0.9998\n",
            "Epoch 7/20\n",
            "1875/1875 [==============================] - 11s 6ms/step - loss: 4.2844e-04 - accuracy: 0.9999\n",
            "Epoch 8/20\n",
            "1875/1875 [==============================] - 12s 6ms/step - loss: 3.7728e-04 - accuracy: 0.9999\n",
            "Epoch 9/20\n",
            "1875/1875 [==============================] - 12s 6ms/step - loss: 5.3374e-04 - accuracy: 0.9998\n",
            "Epoch 10/20\n",
            "1875/1875 [==============================] - 13s 7ms/step - loss: 1.3327e-04 - accuracy: 1.0000\n",
            "Epoch 11/20\n",
            "1875/1875 [==============================] - 14s 7ms/step - loss: 3.6764e-04 - accuracy: 0.9999\n",
            "Epoch 12/20\n",
            "1875/1875 [==============================] - 13s 7ms/step - loss: 6.7738e-06 - accuracy: 1.0000\n",
            "Epoch 13/20\n",
            "1875/1875 [==============================] - 10s 5ms/step - loss: 5.3407e-04 - accuracy: 0.9998\n",
            "Epoch 14/20\n",
            "1875/1875 [==============================] - 11s 6ms/step - loss: 1.0475e-04 - accuracy: 1.0000\n",
            "Epoch 15/20\n",
            "1875/1875 [==============================] - 9s 5ms/step - loss: 3.7034e-04 - accuracy: 0.9999\n",
            "Epoch 16/20\n",
            "1875/1875 [==============================] - 9s 5ms/step - loss: 2.1860e-06 - accuracy: 1.0000\n",
            "Epoch 17/20\n",
            "1875/1875 [==============================] - 8s 4ms/step - loss: 3.1349e-07 - accuracy: 1.0000\n",
            "Epoch 18/20\n",
            "1875/1875 [==============================] - 9s 5ms/step - loss: 2.2514e-04 - accuracy: 0.9999\n",
            "Epoch 19/20\n",
            "1875/1875 [==============================] - 9s 5ms/step - loss: 5.8129e-04 - accuracy: 0.9999\n",
            "Epoch 20/20\n",
            "1875/1875 [==============================] - 8s 4ms/step - loss: 5.3994e-04 - accuracy: 0.9998\n"
          ]
        }
      ]
    },
    {
      "cell_type": "code",
      "source": [
        "model.summary()"
      ],
      "metadata": {
        "colab": {
          "base_uri": "https://localhost:8080/"
        },
        "id": "_iCCXAqizISR",
        "outputId": "a5e089ea-f2a6-4e96-8474-bcb60cb6328e"
      },
      "execution_count": 28,
      "outputs": [
        {
          "output_type": "stream",
          "name": "stdout",
          "text": [
            "Model: \"sequential_1\"\n",
            "_________________________________________________________________\n",
            " Layer (type)                Output Shape              Param #   \n",
            "=================================================================\n",
            " conv2d_2 (Conv2D)           (None, 28, 28, 16)        160       \n",
            "                                                                 \n",
            " max_pooling2d_2 (MaxPoolin  (None, 14, 14, 16)        0         \n",
            " g2D)                                                            \n",
            "                                                                 \n",
            " conv2d_3 (Conv2D)           (None, 14, 14, 32)        4640      \n",
            "                                                                 \n",
            " max_pooling2d_3 (MaxPoolin  (None, 7, 7, 32)          0         \n",
            " g2D)                                                            \n",
            "                                                                 \n",
            " flatten_1 (Flatten)         (None, 1568)              0         \n",
            "                                                                 \n",
            " dense_3 (Dense)             (None, 950)               1490550   \n",
            "                                                                 \n",
            " dense_4 (Dense)             (None, 60)                57060     \n",
            "                                                                 \n",
            " dense_5 (Dense)             (None, 10)                610       \n",
            "                                                                 \n",
            "=================================================================\n",
            "Total params: 1553020 (5.92 MB)\n",
            "Trainable params: 1553020 (5.92 MB)\n",
            "Non-trainable params: 0 (0.00 Byte)\n",
            "_________________________________________________________________\n"
          ]
        }
      ]
    },
    {
      "cell_type": "markdown",
      "source": [
        "## **Saving and loading model**"
      ],
      "metadata": {
        "id": "byTUaCL26Bfd"
      }
    },
    {
      "cell_type": "code",
      "source": [
        "model.save('digits_model.keras')"
      ],
      "metadata": {
        "id": "ku5sv2go5GEm"
      },
      "execution_count": 30,
      "outputs": []
    },
    {
      "cell_type": "code",
      "source": [
        "loaded_model = tf.keras.models.load_model('digits_model.keras')"
      ],
      "metadata": {
        "id": "7TtNBMoj5jkB"
      },
      "execution_count": 32,
      "outputs": []
    },
    {
      "cell_type": "code",
      "source": [
        "loaded_model.summary()"
      ],
      "metadata": {
        "colab": {
          "base_uri": "https://localhost:8080/"
        },
        "id": "qCfYcP3F54fM",
        "outputId": "b7ee4ec8-0681-4a24-edf5-fd38d0624902"
      },
      "execution_count": 33,
      "outputs": [
        {
          "output_type": "stream",
          "name": "stdout",
          "text": [
            "Model: \"sequential_1\"\n",
            "_________________________________________________________________\n",
            " Layer (type)                Output Shape              Param #   \n",
            "=================================================================\n",
            " conv2d_2 (Conv2D)           (None, 28, 28, 16)        160       \n",
            "                                                                 \n",
            " max_pooling2d_2 (MaxPoolin  (None, 14, 14, 16)        0         \n",
            " g2D)                                                            \n",
            "                                                                 \n",
            " conv2d_3 (Conv2D)           (None, 14, 14, 32)        4640      \n",
            "                                                                 \n",
            " max_pooling2d_3 (MaxPoolin  (None, 7, 7, 32)          0         \n",
            " g2D)                                                            \n",
            "                                                                 \n",
            " flatten_1 (Flatten)         (None, 1568)              0         \n",
            "                                                                 \n",
            " dense_3 (Dense)             (None, 950)               1490550   \n",
            "                                                                 \n",
            " dense_4 (Dense)             (None, 60)                57060     \n",
            "                                                                 \n",
            " dense_5 (Dense)             (None, 10)                610       \n",
            "                                                                 \n",
            "=================================================================\n",
            "Total params: 1553020 (5.92 MB)\n",
            "Trainable params: 1553020 (5.92 MB)\n",
            "Non-trainable params: 0 (0.00 Byte)\n",
            "_________________________________________________________________\n"
          ]
        }
      ]
    },
    {
      "cell_type": "markdown",
      "source": [
        "## **Predictions**"
      ],
      "metadata": {
        "id": "8dI2U2or6GIj"
      }
    },
    {
      "cell_type": "code",
      "source": [
        "predicted = loaded_model.predict(x_test)"
      ],
      "metadata": {
        "colab": {
          "base_uri": "https://localhost:8080/"
        },
        "id": "Cxfr7_Ra5_DF",
        "outputId": "5b96afe2-a4b5-41a0-ce19-c34d5c34eace"
      },
      "execution_count": 35,
      "outputs": [
        {
          "output_type": "stream",
          "name": "stdout",
          "text": [
            "313/313 [==============================] - 1s 2ms/step\n"
          ]
        }
      ]
    },
    {
      "cell_type": "code",
      "source": [
        "pre_1 = np.argmax(predicted[0])\n",
        "ex_1  = y_test[0]\n",
        "pre_2 = np.argmax(predicted[1])\n",
        "ex_2  = y_test[1]\n",
        "pre_3 = np.argmax(predicted[2])\n",
        "ex_3  = y_test[2]\n",
        "pre_4 = np.argmax(predicted[3])\n",
        "ex_4  = y_test[3]\n",
        "pre_5 = np.argmax(predicted[4])\n",
        "ex_5  = y_test[4]\n",
        "pre_6 = np.argmax(predicted[5])\n",
        "ex_6  = y_test[5]\n",
        "\n",
        "print(f\"prediction = {pre_1}; Exact avlue = {ex_1}\")\n",
        "print(f\"prediction = {pre_2}; Exact avlue = {ex_2}\")\n",
        "print(f\"prediction = {pre_3}; Exact avlue = {ex_3}\")\n",
        "print(f\"prediction = {pre_4}; Exact avlue = {ex_4}\")\n",
        "print(f\"prediction = {pre_5}; Exact avlue = {ex_5}\")\n",
        "print(f\"prediction = {pre_6}; Exact avlue = {ex_6}\")\n"
      ],
      "metadata": {
        "colab": {
          "base_uri": "https://localhost:8080/"
        },
        "id": "9IppmyKx6N1t",
        "outputId": "217f249f-aaab-4292-c882-9a3b355aaf4b"
      },
      "execution_count": 39,
      "outputs": [
        {
          "output_type": "stream",
          "name": "stdout",
          "text": [
            "prediction = 7; Exact avlue = 7\n",
            "prediction = 2; Exact avlue = 2\n",
            "prediction = 1; Exact avlue = 1\n",
            "prediction = 0; Exact avlue = 0\n",
            "prediction = 4; Exact avlue = 4\n",
            "prediction = 1; Exact avlue = 1\n"
          ]
        }
      ]
    },
    {
      "cell_type": "code",
      "source": [
        "fig, ax= plt.subplots(1,6,figsize=(20,25))\n",
        "ax[0].matshow(x_test[0], cmap='gray')\n",
        "ax[1].matshow(x_test[1], cmap='gray')\n",
        "ax[2].matshow(x_test[2], cmap='gray')\n",
        "ax[3].matshow(x_test[3], cmap='gray')\n",
        "ax[4].matshow(x_test[4], cmap='gray')\n",
        "ax[5].matshow(x_test[5], cmap='gray')\n",
        "\n",
        "fig.suptitle('Results',y=0.57,x=0.51,fontsize=20)\n",
        "plt.show()"
      ],
      "metadata": {
        "colab": {
          "base_uri": "https://localhost:8080/",
          "height": 281
        },
        "id": "MWGTNI4D76pg",
        "outputId": "6adb942e-c417-465f-c3ab-bc4ed7b2b858"
      },
      "execution_count": 57,
      "outputs": [
        {
          "output_type": "display_data",
          "data": {
            "text/plain": [
              "<Figure size 2000x2500 with 6 Axes>"
            ],
            "image/png": "[encoded data removed]"
          },
          "metadata": {}
        }
      ]
    },
    {
      "cell_type": "code",
      "source": [
        "loaded_model.evaluate(x_test,y_test)"
      ],
      "metadata": {
        "colab": {
          "base_uri": "https://localhost:8080/"
        },
        "id": "UzhkjTbL6VGI",
        "outputId": "68e5d75a-cb82-4a1d-e26c-332673108c29"
      },
      "execution_count": 40,
      "outputs": [
        {
          "output_type": "stream",
          "name": "stdout",
          "text": [
            "313/313 [==============================] - 2s 5ms/step - loss: 0.0885 - accuracy: 0.9904\n"
          ]
        },
        {
          "output_type": "execute_result",
          "data": {
            "text/plain": [
              "[0.08845450729131699, 0.9904000163078308]"
            ]
          },
          "metadata": {},
          "execution_count": 40
        }
      ]
    },
    {
      "cell_type": "markdown",
      "source": [
        "### **Results**\n",
        "- Train accuracy = 99.98%\n",
        "- Test accuracy = 99.04%"
      ],
      "metadata": {
        "id": "ZmTAG3AT7lg_"
      }
    }
  ]
}